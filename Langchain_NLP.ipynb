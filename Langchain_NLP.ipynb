{
  "nbformat": 4,
  "nbformat_minor": 0,
  "metadata": {
    "colab": {
      "provenance": []
    },
    "kernelspec": {
      "name": "python3",
      "display_name": "Python 3"
    },
    "language_info": {
      "name": "python"
    }
  },
  "cells": [
    {
      "cell_type": "markdown",
      "source": [
        "# Packages"
      ],
      "metadata": {
        "id": "EXDhutAjSBzX"
      }
    },
    {
      "cell_type": "code",
      "execution_count": 98,
      "metadata": {
        "id": "RRYSu48huSUW"
      },
      "outputs": [],
      "source": [
        "!pip -q install langchain openai chromadb"
      ]
    },
    {
      "cell_type": "markdown",
      "source": [
        "# Conversation chain with memory"
      ],
      "metadata": {
        "id": "9g1LAkmeL2U8"
      }
    },
    {
      "cell_type": "code",
      "source": [
        "from langchain.chat_models import ChatOpenAI\n",
        "from langchain.llms import OpenAI\n",
        "from langchain.schema.messages import SystemMessage\n",
        "from langchain.schema import HumanMessage\n",
        "from langchain.chains import LLMChain,RetrievalQA\n",
        "from langchain.memory import ConversationBufferMemory, ConversationSummaryMemory\n",
        "from langchain.vectorstores import Chroma\n",
        "from langchain.embeddings import OpenAIEmbeddings\n",
        "from langchain.document_loaders import DataFrameLoader\n",
        "from langchain.text_splitter import CharacterTextSplitter\n"
      ],
      "metadata": {
        "id": "v6vOSICLSG_D"
      },
      "execution_count": 99,
      "outputs": []
    },
    {
      "cell_type": "code",
      "source": [
        "from langchain.prompts import (\n",
        "    ChatPromptTemplate,\n",
        "    HumanMessagePromptTemplate,\n",
        "    MessagesPlaceholder,\n",
        "    SystemMessagePromptTemplate,\n",
        ")\n",
        "\n",
        "# LLM\n",
        "llm = ChatOpenAI()\n",
        "system_prompt = \"\"\"\"you work as an assistant at a garment store. your goal is to ask the user about the\n",
        "following:\\n- the occasion they are shopping for\\n- any particular type of garment they want\\n- any preference of colors\\n\\n\n",
        "Ask for all these preferences from the user one by one and combine the responses in the end in one sentence.\n",
        "\"\"\"\n",
        "\n",
        "# Prompt\n",
        "prompt = ChatPromptTemplate(\n",
        "    messages=[\n",
        "        SystemMessagePromptTemplate.from_template(\n",
        "            system_prompt\n",
        "        ),\n",
        "        # The `variable_name` here is what must align with memory\n",
        "        MessagesPlaceholder(variable_name=\"chat_history\"),\n",
        "        HumanMessagePromptTemplate.from_template(\"{question}\"),\n",
        "    ]\n",
        ")\n",
        "\n",
        "# Notice that we `return_messages=True` to fit into the MessagesPlaceholder\n",
        "# Notice that `\"chat_history\"` aligns with the MessagesPlaceholder name\n",
        "memory = ConversationBufferMemory(memory_key=\"chat_history\", return_messages=True)\n",
        "conversation = LLMChain(llm=llm, prompt=prompt, verbose=True, memory=memory)\n",
        "\n",
        "# Notice that we just pass in the `question` variables - `chat_history` gets populated by memory\n",
        "conversation({\"question\": \"hi, i want to buy something, can you help me ?\"})\n",
        "conversation({\"question\": \"i would like to get something for the beach\"})\n",
        "conversation({\"question\": \"maybe a bikini\"})\n",
        "conversation({\"question\": \"shades of blue i like\"})\n",
        "response = conversation({\"question\": \"yes!\"})\n",
        "get_text = response['text']\n",
        "get_text"
      ],
      "metadata": {
        "colab": {
          "base_uri": "https://localhost:8080/",
          "height": 1000
        },
        "id": "XWYptZioLceM",
        "outputId": "93f768eb-bbc8-433d-e841-46e88d25984f"
      },
      "execution_count": 100,
      "outputs": [
        {
          "output_type": "stream",
          "name": "stdout",
          "text": [
            "\n",
            "\n",
            "\u001b[1m> Entering new LLMChain chain...\u001b[0m\n",
            "Prompt after formatting:\n",
            "\u001b[32;1m\u001b[1;3mSystem: \"you work as an assistant at a garment store. your goal is to ask the user about the\n",
            "following:\n",
            "- the occasion they are shopping for\n",
            "- any particular type of garment they want\n",
            "- any preference of colors\n",
            "\n",
            "\n",
            "Ask for all these preferences from the user one by one and combine the responses in the end in one sentence. Do not ask the user to confirm the summary.\n",
            "\n",
            "Human: hi, i want to buy something, can you help me ?\u001b[0m\n",
            "\n",
            "\u001b[1m> Finished chain.\u001b[0m\n",
            "\n",
            "\n",
            "\u001b[1m> Entering new LLMChain chain...\u001b[0m\n",
            "Prompt after formatting:\n",
            "\u001b[32;1m\u001b[1;3mSystem: \"you work as an assistant at a garment store. your goal is to ask the user about the\n",
            "following:\n",
            "- the occasion they are shopping for\n",
            "- any particular type of garment they want\n",
            "- any preference of colors\n",
            "\n",
            "\n",
            "Ask for all these preferences from the user one by one and combine the responses in the end in one sentence. Do not ask the user to confirm the summary.\n",
            "\n",
            "Human: hi, i want to buy something, can you help me ?\n",
            "AI: Of course! I'd be happy to assist you. Can you please tell me the occasion you are shopping for?\n",
            "Human: i would like to get something for the beach\u001b[0m\n",
            "\n",
            "\u001b[1m> Finished chain.\u001b[0m\n",
            "\n",
            "\n",
            "\u001b[1m> Entering new LLMChain chain...\u001b[0m\n",
            "Prompt after formatting:\n",
            "\u001b[32;1m\u001b[1;3mSystem: \"you work as an assistant at a garment store. your goal is to ask the user about the\n",
            "following:\n",
            "- the occasion they are shopping for\n",
            "- any particular type of garment they want\n",
            "- any preference of colors\n",
            "\n",
            "\n",
            "Ask for all these preferences from the user one by one and combine the responses in the end in one sentence. Do not ask the user to confirm the summary.\n",
            "\n",
            "Human: hi, i want to buy something, can you help me ?\n",
            "AI: Of course! I'd be happy to assist you. Can you please tell me the occasion you are shopping for?\n",
            "Human: i would like to get something for the beach\n",
            "AI: Great! Are you looking for any particular type of garment, like a swimsuit, cover-up, or beach dress?\n",
            "Human: maybe a bikini\u001b[0m\n",
            "\n",
            "\u001b[1m> Finished chain.\u001b[0m\n",
            "\n",
            "\n",
            "\u001b[1m> Entering new LLMChain chain...\u001b[0m\n",
            "Prompt after formatting:\n",
            "\u001b[32;1m\u001b[1;3mSystem: \"you work as an assistant at a garment store. your goal is to ask the user about the\n",
            "following:\n",
            "- the occasion they are shopping for\n",
            "- any particular type of garment they want\n",
            "- any preference of colors\n",
            "\n",
            "\n",
            "Ask for all these preferences from the user one by one and combine the responses in the end in one sentence. Do not ask the user to confirm the summary.\n",
            "\n",
            "Human: hi, i want to buy something, can you help me ?\n",
            "AI: Of course! I'd be happy to assist you. Can you please tell me the occasion you are shopping for?\n",
            "Human: i would like to get something for the beach\n",
            "AI: Great! Are you looking for any particular type of garment, like a swimsuit, cover-up, or beach dress?\n",
            "Human: maybe a bikini\n",
            "AI: Got it! And do you have any preference for the color of the bikini?\n",
            "Human: shades of blue i like\u001b[0m\n",
            "\n",
            "\u001b[1m> Finished chain.\u001b[0m\n",
            "\n",
            "\n",
            "\u001b[1m> Entering new LLMChain chain...\u001b[0m\n",
            "Prompt after formatting:\n",
            "\u001b[32;1m\u001b[1;3mSystem: \"you work as an assistant at a garment store. your goal is to ask the user about the\n",
            "following:\n",
            "- the occasion they are shopping for\n",
            "- any particular type of garment they want\n",
            "- any preference of colors\n",
            "\n",
            "\n",
            "Ask for all these preferences from the user one by one and combine the responses in the end in one sentence. Do not ask the user to confirm the summary.\n",
            "\n",
            "Human: hi, i want to buy something, can you help me ?\n",
            "AI: Of course! I'd be happy to assist you. Can you please tell me the occasion you are shopping for?\n",
            "Human: i would like to get something for the beach\n",
            "AI: Great! Are you looking for any particular type of garment, like a swimsuit, cover-up, or beach dress?\n",
            "Human: maybe a bikini\n",
            "AI: Got it! And do you have any preference for the color of the bikini?\n",
            "Human: shades of blue i like\n",
            "AI: Perfect! So just to summarize, you're looking for a bikini for a beach occasion, preferably in shades of blue. Is that correct?\n",
            "Human: yes!\u001b[0m\n",
            "\n",
            "\u001b[1m> Finished chain.\u001b[0m\n"
          ]
        },
        {
          "output_type": "execute_result",
          "data": {
            "text/plain": [
              "\"Great! I'll keep that in mind as I assist you in finding the perfect bikini for your beach outing. Let's get started!\""
            ],
            "application/vnd.google.colaboratory.intrinsic+json": {
              "type": "string"
            }
          },
          "metadata": {},
          "execution_count": 100
        }
      ]
    },
    {
      "cell_type": "markdown",
      "source": [
        "# Preparing DB"
      ],
      "metadata": {
        "id": "4phdIGBRMlw-"
      }
    },
    {
      "cell_type": "code",
      "source": [
        "from google.colab import drive\n",
        "drive.mount('/content/drive')"
      ],
      "metadata": {
        "colab": {
          "base_uri": "https://localhost:8080/"
        },
        "id": "wtLwvQ90r2YZ",
        "outputId": "96c4fe7a-2898-4a77-c4ea-9065af9de49f"
      },
      "execution_count": 101,
      "outputs": [
        {
          "output_type": "stream",
          "name": "stdout",
          "text": [
            "Drive already mounted at /content/drive; to attempt to forcibly remount, call drive.mount(\"/content/drive\", force_remount=True).\n"
          ]
        }
      ]
    },
    {
      "cell_type": "code",
      "source": [
        "import pandas as pd\n",
        "articles = pd.read_csv(\"/content/drive/MyDrive/Copy of articles.csv\")\n",
        "print(articles.columns)\n",
        "\n",
        "def concat_columns(df, cols_to_concat, new_col_name, sep=\",\"):\n",
        "    df[new_col_name] = df[cols_to_concat[0]]\n",
        "    for col in cols_to_concat[1:]:\n",
        "        df[new_col_name] = df[new_col_name] + sep + df[col]\n",
        "    return df\n",
        "\n",
        "cols_to_concat = ['prod_name', 'product_type_name', 'product_group_name','graphical_appearance_name', 'colour_group_name', 'garment_group_name','detail_desc']\n",
        "new_col_name = 'concatenated_desc'\n",
        "articles = concat_columns(articles, cols_to_concat, new_col_name, sep=\",\")\n",
        "# articles = articles[:10]\n",
        "print(len(articles))\n",
        "articles.head(n=2)"
      ],
      "metadata": {
        "colab": {
          "base_uri": "https://localhost:8080/",
          "height": 236
        },
        "id": "rbd27X5DsOq8",
        "outputId": "2f16d3a5-6f3f-4651-86fe-70ab79adf624"
      },
      "execution_count": 102,
      "outputs": [
        {
          "output_type": "stream",
          "name": "stdout",
          "text": [
            "Index(['article_id', 'prod_name', 'product_type_name', 'product_group_name',\n",
            "       'graphical_appearance_name', 'colour_group_name', 'garment_group_name',\n",
            "       'detail_desc'],\n",
            "      dtype='object')\n",
            "1000\n"
          ]
        },
        {
          "output_type": "execute_result",
          "data": {
            "text/plain": [
              "   article_id     prod_name product_type_name  product_group_name  \\\n",
              "0   695255001   Siv t-shirt           T-shirt  Garment Upper body   \n",
              "1   821115007  RICHIE SKIRT             Skirt  Garment Lower body   \n",
              "\n",
              "  graphical_appearance_name colour_group_name garment_group_name  \\\n",
              "0          All over pattern         Dark Blue       Jersey Fancy   \n",
              "1                     Check              Pink             Skirts   \n",
              "\n",
              "                                         detail_desc  \\\n",
              "0  Short-sleeved top in soft viscose jersey with ...   \n",
              "1  Short, pleated skirt in woven fabric with a hi...   \n",
              "\n",
              "                                   concatenated_desc  \n",
              "0  Siv t-shirt,T-shirt,Garment Upper body,All ove...  \n",
              "1  RICHIE SKIRT,Skirt,Garment Lower body,Check,Pi...  "
            ],
            "text/html": [
              "\n",
              "  <div id=\"df-bdccaac3-01b6-418c-8f7d-48d6ce8a87e8\" class=\"colab-df-container\">\n",
              "    <div>\n",
              "<style scoped>\n",
              "    .dataframe tbody tr th:only-of-type {\n",
              "        vertical-align: middle;\n",
              "    }\n",
              "\n",
              "    .dataframe tbody tr th {\n",
              "        vertical-align: top;\n",
              "    }\n",
              "\n",
              "    .dataframe thead th {\n",
              "        text-align: right;\n",
              "    }\n",
              "</style>\n",
              "<table border=\"1\" class=\"dataframe\">\n",
              "  <thead>\n",
              "    <tr style=\"text-align: right;\">\n",
              "      <th></th>\n",
              "      <th>article_id</th>\n",
              "      <th>prod_name</th>\n",
              "      <th>product_type_name</th>\n",
              "      <th>product_group_name</th>\n",
              "      <th>graphical_appearance_name</th>\n",
              "      <th>colour_group_name</th>\n",
              "      <th>garment_group_name</th>\n",
              "      <th>detail_desc</th>\n",
              "      <th>concatenated_desc</th>\n",
              "    </tr>\n",
              "  </thead>\n",
              "  <tbody>\n",
              "    <tr>\n",
              "      <th>0</th>\n",
              "      <td>695255001</td>\n",
              "      <td>Siv t-shirt</td>\n",
              "      <td>T-shirt</td>\n",
              "      <td>Garment Upper body</td>\n",
              "      <td>All over pattern</td>\n",
              "      <td>Dark Blue</td>\n",
              "      <td>Jersey Fancy</td>\n",
              "      <td>Short-sleeved top in soft viscose jersey with ...</td>\n",
              "      <td>Siv t-shirt,T-shirt,Garment Upper body,All ove...</td>\n",
              "    </tr>\n",
              "    <tr>\n",
              "      <th>1</th>\n",
              "      <td>821115007</td>\n",
              "      <td>RICHIE SKIRT</td>\n",
              "      <td>Skirt</td>\n",
              "      <td>Garment Lower body</td>\n",
              "      <td>Check</td>\n",
              "      <td>Pink</td>\n",
              "      <td>Skirts</td>\n",
              "      <td>Short, pleated skirt in woven fabric with a hi...</td>\n",
              "      <td>RICHIE SKIRT,Skirt,Garment Lower body,Check,Pi...</td>\n",
              "    </tr>\n",
              "  </tbody>\n",
              "</table>\n",
              "</div>\n",
              "    <div class=\"colab-df-buttons\">\n",
              "\n",
              "  <div class=\"colab-df-container\">\n",
              "    <button class=\"colab-df-convert\" onclick=\"convertToInteractive('df-bdccaac3-01b6-418c-8f7d-48d6ce8a87e8')\"\n",
              "            title=\"Convert this dataframe to an interactive table.\"\n",
              "            style=\"display:none;\">\n",
              "\n",
              "  <svg xmlns=\"http://www.w3.org/2000/svg\" height=\"24px\" viewBox=\"0 -960 960 960\">\n",
              "    <path d=\"M120-120v-720h720v720H120Zm60-500h600v-160H180v160Zm220 220h160v-160H400v160Zm0 220h160v-160H400v160ZM180-400h160v-160H180v160Zm440 0h160v-160H620v160ZM180-180h160v-160H180v160Zm440 0h160v-160H620v160Z\"/>\n",
              "  </svg>\n",
              "    </button>\n",
              "\n",
              "  <style>\n",
              "    .colab-df-container {\n",
              "      display:flex;\n",
              "      gap: 12px;\n",
              "    }\n",
              "\n",
              "    .colab-df-convert {\n",
              "      background-color: #E8F0FE;\n",
              "      border: none;\n",
              "      border-radius: 50%;\n",
              "      cursor: pointer;\n",
              "      display: none;\n",
              "      fill: #1967D2;\n",
              "      height: 32px;\n",
              "      padding: 0 0 0 0;\n",
              "      width: 32px;\n",
              "    }\n",
              "\n",
              "    .colab-df-convert:hover {\n",
              "      background-color: #E2EBFA;\n",
              "      box-shadow: 0px 1px 2px rgba(60, 64, 67, 0.3), 0px 1px 3px 1px rgba(60, 64, 67, 0.15);\n",
              "      fill: #174EA6;\n",
              "    }\n",
              "\n",
              "    .colab-df-buttons div {\n",
              "      margin-bottom: 4px;\n",
              "    }\n",
              "\n",
              "    [theme=dark] .colab-df-convert {\n",
              "      background-color: #3B4455;\n",
              "      fill: #D2E3FC;\n",
              "    }\n",
              "\n",
              "    [theme=dark] .colab-df-convert:hover {\n",
              "      background-color: #434B5C;\n",
              "      box-shadow: 0px 1px 3px 1px rgba(0, 0, 0, 0.15);\n",
              "      filter: drop-shadow(0px 1px 2px rgba(0, 0, 0, 0.3));\n",
              "      fill: #FFFFFF;\n",
              "    }\n",
              "  </style>\n",
              "\n",
              "    <script>\n",
              "      const buttonEl =\n",
              "        document.querySelector('#df-bdccaac3-01b6-418c-8f7d-48d6ce8a87e8 button.colab-df-convert');\n",
              "      buttonEl.style.display =\n",
              "        google.colab.kernel.accessAllowed ? 'block' : 'none';\n",
              "\n",
              "      async function convertToInteractive(key) {\n",
              "        const element = document.querySelector('#df-bdccaac3-01b6-418c-8f7d-48d6ce8a87e8');\n",
              "        const dataTable =\n",
              "          await google.colab.kernel.invokeFunction('convertToInteractive',\n",
              "                                                    [key], {});\n",
              "        if (!dataTable) return;\n",
              "\n",
              "        const docLinkHtml = 'Like what you see? Visit the ' +\n",
              "          '<a target=\"_blank\" href=https://colab.research.google.com/notebooks/data_table.ipynb>data table notebook</a>'\n",
              "          + ' to learn more about interactive tables.';\n",
              "        element.innerHTML = '';\n",
              "        dataTable['output_type'] = 'display_data';\n",
              "        await google.colab.output.renderOutput(dataTable, element);\n",
              "        const docLink = document.createElement('div');\n",
              "        docLink.innerHTML = docLinkHtml;\n",
              "        element.appendChild(docLink);\n",
              "      }\n",
              "    </script>\n",
              "  </div>\n",
              "\n",
              "\n",
              "<div id=\"df-79ff8461-b7ca-47ec-8a18-ee9aa784db64\">\n",
              "  <button class=\"colab-df-quickchart\" onclick=\"quickchart('df-79ff8461-b7ca-47ec-8a18-ee9aa784db64')\"\n",
              "            title=\"Suggest charts\"\n",
              "            style=\"display:none;\">\n",
              "\n",
              "<svg xmlns=\"http://www.w3.org/2000/svg\" height=\"24px\"viewBox=\"0 0 24 24\"\n",
              "     width=\"24px\">\n",
              "    <g>\n",
              "        <path d=\"M19 3H5c-1.1 0-2 .9-2 2v14c0 1.1.9 2 2 2h14c1.1 0 2-.9 2-2V5c0-1.1-.9-2-2-2zM9 17H7v-7h2v7zm4 0h-2V7h2v10zm4 0h-2v-4h2v4z\"/>\n",
              "    </g>\n",
              "</svg>\n",
              "  </button>\n",
              "\n",
              "<style>\n",
              "  .colab-df-quickchart {\n",
              "      --bg-color: #E8F0FE;\n",
              "      --fill-color: #1967D2;\n",
              "      --hover-bg-color: #E2EBFA;\n",
              "      --hover-fill-color: #174EA6;\n",
              "      --disabled-fill-color: #AAA;\n",
              "      --disabled-bg-color: #DDD;\n",
              "  }\n",
              "\n",
              "  [theme=dark] .colab-df-quickchart {\n",
              "      --bg-color: #3B4455;\n",
              "      --fill-color: #D2E3FC;\n",
              "      --hover-bg-color: #434B5C;\n",
              "      --hover-fill-color: #FFFFFF;\n",
              "      --disabled-bg-color: #3B4455;\n",
              "      --disabled-fill-color: #666;\n",
              "  }\n",
              "\n",
              "  .colab-df-quickchart {\n",
              "    background-color: var(--bg-color);\n",
              "    border: none;\n",
              "    border-radius: 50%;\n",
              "    cursor: pointer;\n",
              "    display: none;\n",
              "    fill: var(--fill-color);\n",
              "    height: 32px;\n",
              "    padding: 0;\n",
              "    width: 32px;\n",
              "  }\n",
              "\n",
              "  .colab-df-quickchart:hover {\n",
              "    background-color: var(--hover-bg-color);\n",
              "    box-shadow: 0 1px 2px rgba(60, 64, 67, 0.3), 0 1px 3px 1px rgba(60, 64, 67, 0.15);\n",
              "    fill: var(--button-hover-fill-color);\n",
              "  }\n",
              "\n",
              "  .colab-df-quickchart-complete:disabled,\n",
              "  .colab-df-quickchart-complete:disabled:hover {\n",
              "    background-color: var(--disabled-bg-color);\n",
              "    fill: var(--disabled-fill-color);\n",
              "    box-shadow: none;\n",
              "  }\n",
              "\n",
              "  .colab-df-spinner {\n",
              "    border: 2px solid var(--fill-color);\n",
              "    border-color: transparent;\n",
              "    border-bottom-color: var(--fill-color);\n",
              "    animation:\n",
              "      spin 1s steps(1) infinite;\n",
              "  }\n",
              "\n",
              "  @keyframes spin {\n",
              "    0% {\n",
              "      border-color: transparent;\n",
              "      border-bottom-color: var(--fill-color);\n",
              "      border-left-color: var(--fill-color);\n",
              "    }\n",
              "    20% {\n",
              "      border-color: transparent;\n",
              "      border-left-color: var(--fill-color);\n",
              "      border-top-color: var(--fill-color);\n",
              "    }\n",
              "    30% {\n",
              "      border-color: transparent;\n",
              "      border-left-color: var(--fill-color);\n",
              "      border-top-color: var(--fill-color);\n",
              "      border-right-color: var(--fill-color);\n",
              "    }\n",
              "    40% {\n",
              "      border-color: transparent;\n",
              "      border-right-color: var(--fill-color);\n",
              "      border-top-color: var(--fill-color);\n",
              "    }\n",
              "    60% {\n",
              "      border-color: transparent;\n",
              "      border-right-color: var(--fill-color);\n",
              "    }\n",
              "    80% {\n",
              "      border-color: transparent;\n",
              "      border-right-color: var(--fill-color);\n",
              "      border-bottom-color: var(--fill-color);\n",
              "    }\n",
              "    90% {\n",
              "      border-color: transparent;\n",
              "      border-bottom-color: var(--fill-color);\n",
              "    }\n",
              "  }\n",
              "</style>\n",
              "\n",
              "  <script>\n",
              "    async function quickchart(key) {\n",
              "      const quickchartButtonEl =\n",
              "        document.querySelector('#' + key + ' button');\n",
              "      quickchartButtonEl.disabled = true;  // To prevent multiple clicks.\n",
              "      quickchartButtonEl.classList.add('colab-df-spinner');\n",
              "      try {\n",
              "        const charts = await google.colab.kernel.invokeFunction(\n",
              "            'suggestCharts', [key], {});\n",
              "      } catch (error) {\n",
              "        console.error('Error during call to suggestCharts:', error);\n",
              "      }\n",
              "      quickchartButtonEl.classList.remove('colab-df-spinner');\n",
              "      quickchartButtonEl.classList.add('colab-df-quickchart-complete');\n",
              "    }\n",
              "    (() => {\n",
              "      let quickchartButtonEl =\n",
              "        document.querySelector('#df-79ff8461-b7ca-47ec-8a18-ee9aa784db64 button');\n",
              "      quickchartButtonEl.style.display =\n",
              "        google.colab.kernel.accessAllowed ? 'block' : 'none';\n",
              "    })();\n",
              "  </script>\n",
              "</div>\n",
              "    </div>\n",
              "  </div>\n"
            ]
          },
          "metadata": {},
          "execution_count": 102
        }
      ]
    },
    {
      "cell_type": "code",
      "source": [
        "loader = DataFrameLoader(articles[['article_id', 'concatenated_desc']],page_content_column=\"concatenated_desc\")\n",
        "data=loader.load()\n",
        "text_splitter = CharacterTextSplitter(chunk_size=250, chunk_overlap=10)\n",
        "texts = text_splitter.split_documents(data)\n",
        "print(len(texts))\n",
        "texts[5]"
      ],
      "metadata": {
        "id": "QYmwce8QsYSY",
        "colab": {
          "base_uri": "https://localhost:8080/"
        },
        "outputId": "96de6b06-d5c3-4ff7-d222-3d708a3b0621"
      },
      "execution_count": 103,
      "outputs": [
        {
          "output_type": "stream",
          "name": "stdout",
          "text": [
            "1000\n"
          ]
        },
        {
          "output_type": "execute_result",
          "data": {
            "text/plain": [
              "Document(page_content='KELLY SHIRT S.0,Shirt,Garment Upper body,Stripe,Blue,Blouses,Shirt in airy cotton with a collar, buttons down the front, long sleeves with buttoned cuffs, and a rounded hem.', metadata={'article_id': 697564030})"
            ]
          },
          "metadata": {},
          "execution_count": 103
        }
      ]
    },
    {
      "cell_type": "code",
      "source": [
        "# Embed and store the texts\n",
        "# Supplying a persist_directory will store the embeddings on disk\n",
        "persist_directory = 'db'\n",
        "import os\n",
        "\n",
        "## here we are using OpenAI embeddings but in future we will swap out to local embeddings\n",
        "embedding = OpenAIEmbeddings()\n",
        "\n",
        "vectordb = Chroma.from_documents(documents=texts,\n",
        "                                 embedding=embedding,\n",
        "                                 persist_directory=persist_directory)"
      ],
      "metadata": {
        "id": "Q_eTIZwf4Dk2"
      },
      "execution_count": 104,
      "outputs": []
    },
    {
      "cell_type": "markdown",
      "source": [
        "## Make a retriever"
      ],
      "metadata": {
        "id": "siLXR-XT0JoI"
      }
    },
    {
      "cell_type": "code",
      "source": [
        "retriever = vectordb.as_retriever(search_kwargs = {\"k\":2})\n",
        "print(retriever.search_type)\n",
        "print(retriever.search_kwargs)"
      ],
      "metadata": {
        "id": "6ObunFU30Lxh",
        "colab": {
          "base_uri": "https://localhost:8080/"
        },
        "outputId": "973e18e8-2a25-4c1e-9000-13e618d94277"
      },
      "execution_count": 107,
      "outputs": [
        {
          "output_type": "stream",
          "name": "stdout",
          "text": [
            "similarity\n",
            "{'k': 2}\n"
          ]
        }
      ]
    },
    {
      "cell_type": "markdown",
      "source": [
        "## Make a chain"
      ],
      "metadata": {
        "id": "4Ia-4OXa5IeP"
      }
    },
    {
      "cell_type": "code",
      "source": [
        "# create the chain to answer questions\n",
        "qa_chain = RetrievalQA.from_chain_type(llm=OpenAI(),\n",
        "                                  chain_type=\"stuff\",\n",
        "                                  retriever=retriever,\n",
        "                                  return_source_documents=True)"
      ],
      "metadata": {
        "id": "MGx8XblM4shW"
      },
      "execution_count": 108,
      "outputs": []
    },
    {
      "cell_type": "code",
      "source": [
        "\"\"\"Function to convert AI's summary of user's request into a question\"\"\"\n",
        "def AItoQuestion(input_txt):\n",
        "    llm = ChatOpenAI()\n",
        "    system_prompt_3 = \"\"\"\"the input statement will mention an object description.convert that description from a\n",
        "    statement to a question that looks for the nearest match to the description. for example, if the user says:\n",
        "    you want a new red top, then rephrase it as: is there anything that nearly matches a red top ?\"\"\"\n",
        "\n",
        "\n",
        "    messages = [\n",
        "        SystemMessage(\n",
        "            content=system_prompt_3\n",
        "        ),\n",
        "        HumanMessage(\n",
        "            content=input_txt\n",
        "        ),\n",
        "    ]\n",
        "    op_txt = llm(messages)\n",
        "    return op_txt\n",
        "\n",
        "get_question = str(AItoQuestion(get_text))[9:]\n",
        "get_question"
      ],
      "metadata": {
        "colab": {
          "base_uri": "https://localhost:8080/",
          "height": 35
        },
        "id": "-T0f4BAKPl3p",
        "outputId": "aee09ef6-802f-4d91-a89c-35aa3c40cf01"
      },
      "execution_count": 109,
      "outputs": [
        {
          "output_type": "execute_result",
          "data": {
            "text/plain": [
              "'Thank you! I\\'m looking for a new bikini for my beach outing. Is there anything that nearly matches my description?\"'"
            ],
            "application/vnd.google.colaboratory.intrinsic+json": {
              "type": "string"
            }
          },
          "metadata": {},
          "execution_count": 109
        }
      ]
    },
    {
      "cell_type": "code",
      "source": [
        "llm_response = qa_chain(get_question) #passing the generated question into retrieval chain to get the best match\n",
        "print(\"Best Match:\")\n",
        "op_txt = str(llm_response['source_documents'][0])[9:]\n",
        "op_txt"
      ],
      "metadata": {
        "colab": {
          "base_uri": "https://localhost:8080/",
          "height": 53
        },
        "id": "wKfX4vX-5RFT",
        "outputId": "f002ba8a-7b0f-4b73-f790-4dfb3507b28f"
      },
      "execution_count": 110,
      "outputs": [
        {
          "output_type": "stream",
          "name": "stdout",
          "text": [
            "Best Match:\n"
          ]
        },
        {
          "output_type": "execute_result",
          "data": {
            "text/plain": [
              "\"ent='FANTASTIC ELASTIC cheeky breif,Swimwear bottom,Swimwear,Colour blocking,Black,Swimwear,Fully lined bikini bottoms with narrow sides.' metadata={'article_id': 523468002}\""
            ],
            "application/vnd.google.colaboratory.intrinsic+json": {
              "type": "string"
            }
          },
          "metadata": {},
          "execution_count": 110
        }
      ]
    },
    {
      "cell_type": "markdown",
      "source": [
        "# Final Response"
      ],
      "metadata": {
        "id": "NuqKtcUUULaD"
      }
    },
    {
      "cell_type": "code",
      "source": [
        "\"\"\"Function to convert matched output to conversational tone\"\"\"\n",
        "def ResultsToConversation(input_txt):\n",
        "    llm = ChatOpenAI()\n",
        "    system_prompt_3 = \"\"\"\"the input statement will contain the description of an object followed by a metadata that contains an article id.\n",
        "    convert the input into a human -like message. For example,  if the input is : 'fancy black pants. metadata = {'article_id' : 75657766} ' then rephrase it as :\n",
        "    'here is what i found ! :Fancy black pants, check out article id : 75657766 \"\"\"\n",
        "\n",
        "\n",
        "    messages = [\n",
        "        SystemMessage(content=system_prompt_3),\n",
        "          HumanMessage(content=input_txt)\n",
        "    ]\n",
        "    op_txt = llm(messages)\n",
        "    return op_txt\n",
        "\n",
        "get_response = str(ResultsToConversation(op_txt))\n",
        "get_response"
      ],
      "metadata": {
        "colab": {
          "base_uri": "https://localhost:8080/",
          "height": 35
        },
        "id": "FoZ0tQIIC4qY",
        "outputId": "6c207149-75e5-475b-bfc0-19f469cb7e74"
      },
      "execution_count": 111,
      "outputs": [
        {
          "output_type": "execute_result",
          "data": {
            "text/plain": [
              "\"content='Here is what I found! A fantastic elastic cheeky brief swimwear bottom. It features color blocking in black and is fully lined. Check out the article ID: 523468002.'\""
            ],
            "application/vnd.google.colaboratory.intrinsic+json": {
              "type": "string"
            }
          },
          "metadata": {},
          "execution_count": 111
        }
      ]
    }
  ]
}